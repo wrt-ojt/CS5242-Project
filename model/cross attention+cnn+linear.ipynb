{
 "cells": [
  {
   "cell_type": "code",
   "execution_count": 2,
   "metadata": {
    "executionInfo": {
     "elapsed": 17027,
     "status": "ok",
     "timestamp": 1743961979812,
     "user": {
      "displayName": "Longfei Ju",
      "userId": "03330376312878383448"
     },
     "user_tz": -480
    },
    "id": "2Ldqn0wvE76d"
   },
   "outputs": [],
   "source": [
    "import os\n",
    "import pandas as pd\n",
    "from PIL import Image\n",
    "import torch\n",
    "import torch.nn as nn\n",
    "import torch.optim as optim\n",
    "from torch.utils.data import Dataset, DataLoader, random_split\n",
    "from torchvision import transforms\n",
    "from transformers import CLIPProcessor, CLIPModel  # Huggingface CLIP\n",
    "from sklearn.metrics import accuracy_score, classification_report\n",
    "from tqdm.auto import tqdm # For progress bars"
   ]
  },
  {
   "cell_type": "markdown",
   "metadata": {
    "id": "-Nj7-unbFd2y"
   },
   "source": [
    "# --- 1. Configuration ---"
   ]
  },
  {
   "cell_type": "code",
   "execution_count": 3,
   "metadata": {
    "executionInfo": {
     "elapsed": 7,
     "status": "ok",
     "timestamp": 1743964678132,
     "user": {
      "displayName": "Longfei Ju",
      "userId": "03330376312878383448"
     },
     "user_tz": -480
    },
    "id": "3Ynt7yOXFcD0"
   },
   "outputs": [],
   "source": [
    "CONFIG = {\n",
    "\n",
    "    \"batch_size\": 16, # Adjust based on GPU memory\n",
    "    \"clip_model_name\": \"openai/clip-vit-base-patch32\", # Or other CLIP model\n",
    "    \"data_dir\": \"../raw_data\", # Directory containing images and texts\n",
    "\n",
    "    \"data_dir_img\":\"../raw_data\",\n",
    "    \"data_dir_text\":\"../raw_data\",\n",
    "\n",
    "    \"device\": \"cuda:5\" if torch.cuda.is_available() else \"cpu\",\n",
    "    \"freeze_clip\": True, # Set to True to freeze CLIP weights initially\n",
    "    \"label_file\": \"../label.csv\", # CSV file with 'id' and 'label' columns\n",
    "    \"learning_rate_clip\": 1e-6, # Smaller LR for pre-trained CLIP\n",
    "    \"learning_rate_head\": 1e-4, # Larger LR for custom head\n",
    "    \"max_token_length\": 77, # Standard CLIP context length\n",
    "    \"num_classes\": 3, # positive, negative, neutral\n",
    "    \"num_epochs\": 10, # Number of training epochs\n",
    "    \"seed\": 42, # For reproducible splits/shuffling\n",
    "    \"test_split_ratio\": 0.15, # Test set ratio\n",
    "    \"use_cross_attention\": True,\n",
    "    \"use_cnn_layer\": True,\n",
    "    \"val_split_ratio\": 0.15 # Validation set ratio\n",
    "    # --- Ablation Study Flags ---\n",
    "\n",
    "\n",
    "}"
   ]
  },
  {
   "cell_type": "code",
   "execution_count": 4,
   "metadata": {
    "executionInfo": {
     "elapsed": 9,
     "status": "ok",
     "timestamp": 1743961985591,
     "user": {
      "displayName": "Longfei Ju",
      "userId": "03330376312878383448"
     },
     "user_tz": -480
    },
    "id": "gQlQgtPCFnj5"
   },
   "outputs": [],
   "source": [
    "# Label mapping\n",
    "label_map = {\"negative\": 0, \"neutral\": 1, \"positive\": 2}\n",
    "# Inverse mapping for reporting\n",
    "inv_label_map = {v: k for k, v in label_map.items()}"
   ]
  },
  {
   "cell_type": "markdown",
   "metadata": {
    "id": "kUBaTAQ-Ft2T"
   },
   "source": [
    "# --- 2. Dataset and DataLoader ---"
   ]
  },
  {
   "cell_type": "code",
   "execution_count": 5,
   "metadata": {
    "executionInfo": {
     "elapsed": 17,
     "status": "ok",
     "timestamp": 1743961987661,
     "user": {
      "displayName": "Longfei Ju",
      "userId": "03330376312878383448"
     },
     "user_tz": -480
    },
    "id": "VxFbSVFqFtDZ"
   },
   "outputs": [],
   "source": [
    "class MultimodalBlogDataset(Dataset):\n",
    "    \"\"\"Custom Dataset for loading image-text pairs.\"\"\"\n",
    "    def __init__(self, data_dir, dataframe, clip_processor, label_map, data_dir_img, data_dir_text):\n",
    "        self.data_dir = data_dir\n",
    "\n",
    "        ##### 建议回头text和img数据放到一个文件夹\n",
    "        self.data_dir_img = data_dir_img\n",
    "        self.data_dir_text = data_dir_text\n",
    "        ####\n",
    "\n",
    "        self.dataframe = dataframe\n",
    "        self.processor = clip_processor\n",
    "        self.label_map = label_map\n",
    "        # Image transformations are handled by CLIPProcessor,\n",
    "        # but ensure images are loaded correctly (RGB)\n",
    "        self.image_loader = transforms.Compose([\n",
    "            transforms.ToTensor() # ToTensor is needed before processor usually\n",
    "                                  # Processor handles resize and normalize\n",
    "        ])\n",
    "        #transforms不是transformer， 而是图片预处理的工具\n",
    "        #totensor()把 PIL.Image 或 numpy.ndarray 类型的图像转化为torch.Tensor，并归一化(0,255)->(0,1)\n",
    "        # .Compose 定义一个pipeline， 这里暂时只有totensor一个操作\n",
    "        # 某些版本的CLIPProcessor只支持输入tensor\n",
    "\n",
    "    def __len__(self):\n",
    "        return len(self.dataframe)\n",
    "\n",
    "    def __getitem__(self, idx):\n",
    "        row = self.dataframe.iloc[idx]\n",
    "        item_id = row['ID']\n",
    "        label_str = row['label']\n",
    "        label = self.label_map[label_str]\n",
    "\n",
    "        # Load Image\n",
    "        img_path = os.path.join(self.data_dir_img, f\"{item_id}.jpg\")\n",
    "        try:\n",
    "            image = Image.open(img_path).convert(\"RGB\") #.jpg, .png可以忽略.convert(\"RGB\")\n",
    "        except FileNotFoundError:\n",
    "            print(f\"Warning: Image file not found {img_path}, returning None.\")\n",
    "            return None # Handle appropriately in collate_fn or dataloader\n",
    "\n",
    "        # Load Text\n",
    "        txt_path = os.path.join(self.data_dir_text, f\"{item_id}.txt\") #假设text文件和img文件放在一起\n",
    "        try:\n",
    "            with open(txt_path, 'r', encoding='utf-8') as f:\n",
    "                text = f.read()\n",
    "        except FileNotFoundError:\n",
    "            print(f\"Warning: Text file not found {txt_path}, returning None.\")\n",
    "            return None # Handle appropriately\n",
    "\n",
    "        # Preprocessing is done in the training loop / collate_fn\n",
    "        # Here we just return the raw data + label\n",
    "        return image, text, label\n"
   ]
  },
  {
   "cell_type": "code",
   "execution_count": 6,
   "metadata": {
    "executionInfo": {
     "elapsed": 10,
     "status": "ok",
     "timestamp": 1743962650025,
     "user": {
      "displayName": "Longfei Ju",
      "userId": "03330376312878383448"
     },
     "user_tz": -480
    },
    "id": "HyZZVgGNF1Yh"
   },
   "outputs": [],
   "source": [
    "def collate_fn(batch, processor, device, max_length):\n",
    "    \"\"\"Custom collate function to handle preprocessing within the batch.\"\"\"\n",
    "    # Filter out None items if any file was not found\n",
    "    batch = [item for item in batch if item is not None]\n",
    "    if not batch:\n",
    "        return None\n",
    "\n",
    "    images, texts, labels = zip(*batch) #将[img,text,label]数据转变为[img1, img2,..] [text1,text2..][label1,label2..]\n",
    "\n",
    "    # Process batch using CLIPProcessor\n",
    "    inputs = processor(\n",
    "        text=list(texts), #Huggingface版本的处理器传入list，和open ai版本不同\n",
    "        images=list(images),\n",
    "        return_tensors=\"pt\", #pytorch格式的tensor\n",
    "        padding=\"max_length\", # Pad to max_length\n",
    "        truncation=True,\n",
    "        max_length=max_length\n",
    "    )\n",
    "    '''\n",
    "    {\n",
    "      'input_ids': tensor([...]),  不是词向量，而是词向量在词表中的id\n",
    "      'attention_mask': tensor([...]), 全是0和1，告诉attention不要使用padding\n",
    "      'pixel_values': tensor([...]) 图片resize后的tensor[B, 3, 224, 224] BCWH，不是encoder处理过的表征\n",
    "    }\n",
    "    '''\n",
    "\n",
    "    # Move tensors to the correct device\n",
    "    inputs = {k: v.to(device) for k, v in inputs.items()}\n",
    "    #for k, v in inputs.items():\n",
    "    #  print(f\"{k}: {v.device}\")\n",
    "    labels = torch.tensor(labels, dtype=torch.long).to(device) #强制要求数据为长整型\n",
    "\n",
    "    return inputs, labels"
   ]
  },
  {
   "cell_type": "markdown",
   "metadata": {
    "id": "6XV73NVNF3ia"
   },
   "source": [
    "# --- 3. Model Architecture ---"
   ]
  },
  {
   "cell_type": "code",
   "execution_count": 7,
   "metadata": {
    "executionInfo": {
     "elapsed": 74,
     "status": "ok",
     "timestamp": 1743964545773,
     "user": {
      "displayName": "Longfei Ju",
      "userId": "03330376312878383448"
     },
     "user_tz": -480
    },
    "id": "1y_ku06kF4zk"
   },
   "outputs": [],
   "source": [
    "class MultimodalClassifier(nn.Module):\n",
    "    \"\"\"The main model combining CLIP features with a custom fusion head.\"\"\"\n",
    "    def __init__(self, clip_model_name, num_classes,\n",
    "                 use_cross_attention=True, use_cnn_layer=True, freeze_clip=True, device='cpu'):\n",
    "        super().__init__()\n",
    "        self.use_cross_attention = use_cross_attention\n",
    "        self.use_cnn_layer = use_cnn_layer\n",
    "        self.device = device\n",
    "\n",
    "        # Load CLIP model\n",
    "        self.clip_model = CLIPModel.from_pretrained(clip_model_name).to(self.device)\n",
    "\n",
    "        # Freeze CLIP weights if specified\n",
    "        if freeze_clip: #open ai版本是默认无法调参的，hugging face版本支持fine tune\n",
    "            print(\"Freezing CLIP model parameters.\")\n",
    "            for param in self.clip_model.parameters():\n",
    "                param.requires_grad = False\n",
    "        else:\n",
    "            print(\"CLIP model parameters will be fine-tuned.\")\n",
    "\n",
    "\n",
    "        # Get CLIP embedding dimension (projection_dim)\n",
    "        self.embed_dim = self.clip_model.projection_dim # e.g., 512 or 768\n",
    "\n",
    "        # --- Fusion Layers ---\n",
    "        if self.use_cross_attention:\n",
    "            # MultiheadAttention expects (batch, seq_len, embed_dim) if batch_first=True\n",
    "            # Our features are (batch, embed_dim), so add seq_len=1\n",
    "            self.img_to_txt_attention = nn.MultiheadAttention(self.embed_dim, num_heads=8, batch_first=True, dropout=0.1)\n",
    "            self.txt_to_img_attention = nn.MultiheadAttention(self.embed_dim, num_heads=8, batch_first=True, dropout=0.1)\n",
    "            fusion_input_dim = self.embed_dim * 4 # img_feat + txt_feat + attended_img + attended_txt\n",
    "        else:\n",
    "            fusion_input_dim = self.embed_dim * 2 # img_feat + txt_feat\n",
    "\n",
    "        # --- CNN Layer (Optional) ---\n",
    "        # Applying Conv1d on concatenated features of length 1.\n",
    "        # Kernel size 1 acts like a Linear layer applied independently to each channel.\n",
    "        # Might not capture \"global perception\" in the traditional sense here.\n",
    "        if self.use_cnn_layer:\n",
    "            self.cnn_out_channels = fusion_input_dim // 2 # Example reduction\n",
    "            # Input shape for Conv1d: (batch, channels, length)\n",
    "            # Our concatenated features: (batch, fusion_input_dim)\n",
    "            # Reshape to: (batch, fusion_input_dim, 1)\n",
    "            self.conv1d = nn.Conv1d(in_channels=fusion_input_dim,\n",
    "                                    out_channels=self.cnn_out_channels,  #\n",
    "                                    kernel_size=1, # Acts like a linear projection per channel ，等于不滑动\n",
    "                                    padding=0)\n",
    "            self.relu_cnn = nn.ReLU()\n",
    "            # 多维数据一般不用linear，因为linear不支持channel，但由于length =1，kernel size=1，所以两者是等价的，但cnn功能更强大，后续好调整\n",
    "            # After Conv1d: (batch, cnn_out_channels, 1) -> Flatten -> (batch, cnn_out_channels)\n",
    "            classifier_input_dim = self.cnn_out_channels\n",
    "        else:\n",
    "            classifier_input_dim = fusion_input_dim # Input dim for MLP if CNN is skipped\n",
    "\n",
    "        # --- Classifier Head (MLP: Increase then Decrease Dim) ---\n",
    "        self.classifier_hidden_dim = classifier_input_dim * 2 # \"升维\"\n",
    "        self.fc1 = nn.Linear(classifier_input_dim, self.classifier_hidden_dim)\n",
    "        self.relu_fc1 = nn.ReLU()\n",
    "        self.dropout1 = nn.Dropout(0.3)\n",
    "        self.fc2 = nn.Linear(self.classifier_hidden_dim, num_classes) # \"降维\" to num_classes\n",
    "\n",
    "\n",
    "    def forward(self, inputs):\n",
    "        # Get CLIP features\n",
    "        # Note: Use **inputs to unpack dict directly into arguments\n",
    "        image_features = self.clip_model.get_image_features(pixel_values=inputs['pixel_values'])\n",
    "        text_features = self.clip_model.get_text_features(input_ids=inputs['input_ids'], attention_mask=inputs['attention_mask'])\n",
    "        # Features are typically (batch_size, embed_dim)\n",
    "\n",
    "        # --- Fusion ---\n",
    "        if self.use_cross_attention:\n",
    "            # Reshape features for MultiheadAttention: (batch, seq_len=1, embed_dim)\n",
    "            img_feat_attn = image_features.unsqueeze(1)\n",
    "            txt_feat_attn = text_features.unsqueeze(1)\n",
    "\n",
    "            # Image attends to Text (Q=img, K=txt, V=txt)\n",
    "            attended_img, _ = self.img_to_txt_attention(img_feat_attn, txt_feat_attn, txt_feat_attn)\n",
    "            attended_img = attended_img.squeeze(1) # Back to (batch, embed_dim)\n",
    "\n",
    "            # Text attends to Image (Q=txt, K=img, V=img)\n",
    "            attended_txt, _ = self.txt_to_img_attention(txt_feat_attn, img_feat_attn, img_feat_attn)\n",
    "            attended_txt = attended_txt.squeeze(1) # Back to (batch, embed_dim)\n",
    "\n",
    "            # Concatenate all features\n",
    "            fused_features = torch.cat([image_features, text_features, attended_img, attended_txt], dim=1)\n",
    "            # Shape: (batch, embed_dim * 4)\n",
    "        else:\n",
    "            # Simple concatenation if cross-attention is disabled\n",
    "            fused_features = torch.cat([image_features, text_features], dim=1)\n",
    "            # Shape: (batch, embed_dim * 2)\n",
    "\n",
    "        # --- Optional CNN Layer ---\n",
    "        if self.use_cnn_layer:\n",
    "            # Reshape for Conv1d: (batch, channels=fusion_input_dim, length=1)\n",
    "            cnn_input = fused_features.unsqueeze(2)\n",
    "            cnn_output = self.conv1d(cnn_input)\n",
    "            cnn_output = self.relu_cnn(cnn_output)\n",
    "            # Flatten: (batch, cnn_out_channels, 1) -> (batch, cnn_out_channels)\n",
    "            classifier_input = cnn_output.squeeze(2)\n",
    "        else:\n",
    "            classifier_input = fused_features # Pass concatenated features directly\n",
    "\n",
    "        # --- Classifier Head ---\n",
    "        x = self.fc1(classifier_input)\n",
    "        x = self.relu_fc1(x)\n",
    "        x = self.dropout1(x)\n",
    "        logits = self.fc2(x) # Output logits (batch, num_classes)\n",
    "\n",
    "        return logits"
   ]
  },
  {
   "cell_type": "markdown",
   "metadata": {
    "id": "Ka0c6XiTF8S5"
   },
   "source": [
    "# --- 4. Training and Evaluation Functions ---"
   ]
  },
  {
   "cell_type": "code",
   "execution_count": 8,
   "metadata": {
    "executionInfo": {
     "elapsed": 29,
     "status": "ok",
     "timestamp": 1743961994995,
     "user": {
      "displayName": "Longfei Ju",
      "userId": "03330376312878383448"
     },
     "user_tz": -480
    },
    "id": "reXe2mp4F8AK"
   },
   "outputs": [],
   "source": [
    "def train_epoch(model, dataloader, optimizer, criterion, device, clip_processor, max_length):\n",
    "    model.train() # Set model to training mode\n",
    "    total_loss = 0\n",
    "    all_preds = []\n",
    "    all_labels = []\n",
    "\n",
    "    progress_bar = tqdm(dataloader, desc=\"Training\", leave=False)\n",
    "    for batch in progress_bar:\n",
    "        if batch is None: continue # Skip if collate_fn returned None\n",
    "        inputs, labels = batch\n",
    "\n",
    "        # Zero gradients\n",
    "        optimizer.zero_grad()\n",
    "\n",
    "        # Forward pass\n",
    "        outputs = model(inputs)\n",
    "\n",
    "        # Calculate loss\n",
    "        loss = criterion(outputs, labels)\n",
    "\n",
    "        # Backward pass and optimization\n",
    "        loss.backward()\n",
    "        optimizer.step()\n",
    "\n",
    "        total_loss += loss.item()\n",
    "\n",
    "        # Store predictions and labels for metric calculation\n",
    "        preds = torch.argmax(outputs, dim=1).cpu().numpy()\n",
    "        all_preds.extend(preds)\n",
    "        all_labels.extend(labels.cpu().numpy())\n",
    "\n",
    "        progress_bar.set_postfix({'loss': loss.item()})\n",
    "\n",
    "    avg_loss = total_loss / len(dataloader)\n",
    "    accuracy = accuracy_score(all_labels, all_preds)\n",
    "    return avg_loss, accuracy\n",
    "\n",
    "def evaluate_epoch(model, dataloader, criterion, device, clip_processor, max_length):\n",
    "    model.eval() # Set model to evaluation mode\n",
    "    total_loss = 0\n",
    "    all_preds = []\n",
    "    all_labels = []\n",
    "\n",
    "    progress_bar = tqdm(dataloader, desc=\"Evaluating\", leave=False)\n",
    "    with torch.no_grad(): # Disable gradient calculations\n",
    "        for batch in progress_bar:\n",
    "            if batch is None: continue\n",
    "            inputs, labels = batch\n",
    "\n",
    "            # Forward pass\n",
    "            outputs = model(inputs)\n",
    "\n",
    "            # Calculate loss\n",
    "            loss = criterion(outputs, labels)\n",
    "            total_loss += loss.item()\n",
    "\n",
    "            # Store predictions and labels\n",
    "            preds = torch.argmax(outputs, dim=1).cpu().numpy()\n",
    "            all_preds.extend(preds)\n",
    "            all_labels.extend(labels.cpu().numpy())\n",
    "            progress_bar.set_postfix({'loss': loss.item()})\n",
    "\n",
    "\n",
    "    avg_loss = total_loss / len(dataloader)\n",
    "    accuracy = accuracy_score(all_labels, all_preds)\n",
    "    report = classification_report(all_labels, all_preds, target_names=label_map.keys(), zero_division=0)\n",
    "\n",
    "    return avg_loss, accuracy, report, all_labels, all_preds\n"
   ]
  },
  {
   "cell_type": "markdown",
   "metadata": {
    "id": "HLLCEhLWGAOR"
   },
   "source": [
    "# --- 5. Main Execution ---"
   ]
  },
  {
   "cell_type": "code",
   "execution_count": 9,
   "metadata": {
    "colab": {
     "base_uri": "https://localhost:8080/"
    },
    "executionInfo": {
     "elapsed": 686,
     "status": "ok",
     "timestamp": 1743961998404,
     "user": {
      "displayName": "Longfei Ju",
      "userId": "03330376312878383448"
     },
     "user_tz": -480
    },
    "id": "6SkdyZKOK5g4",
    "outputId": "5c8742ed-47f6-4b2e-f948-46a60ce2ff75"
   },
   "outputs": [
    {
     "name": "stderr",
     "output_type": "stream",
     "text": [
      "Using a slow image processor as `use_fast` is unset and a slow processor was saved with this model. `use_fast=True` will be the default behavior in v4.52, even if the model was saved with a slow processor. This will result in minor differences in outputs. You'll still be able to use a slow processor with `use_fast=False`.\n"
     ]
    },
    {
     "name": "stdout",
     "output_type": "stream",
     "text": [
      "Using device: cuda:5\n",
      "Loading labels...\n",
      "        ID      text     image     label  class\n",
      "0        1   neutral  positive  positive      2\n",
      "1        2   neutral  positive  positive      2\n",
      "2        3   neutral  positive  positive      2\n",
      "3        4  positive  positive  positive      2\n",
      "4        5  positive  positive  positive      2\n",
      "...    ...       ...       ...       ...    ...\n",
      "4506  5125   neutral  positive  positive      2\n",
      "4507  5126  positive   neutral  positive      2\n",
      "4508  5127  positive  positive  positive      2\n",
      "4509  5128   neutral  positive  positive      2\n",
      "4510  5129  positive  positive  positive      2\n",
      "\n",
      "[4511 rows x 5 columns]\n",
      "Found 4511 samples.\n",
      "Splitting data: Train=3159, Val=676, Test=676\n",
      "Initializing CLIP Processor...\n",
      "Creating Datasets...\n",
      "Creating DataLoaders...\n",
      "Initializing Model...\n",
      "Freezing CLIP model parameters.\n",
      "Starting Training...\n",
      "\n",
      "--- Epoch 1/10 ---\n"
     ]
    },
    {
     "name": "stderr",
     "output_type": "stream",
     "text": [
      "                                                                       \r"
     ]
    },
    {
     "name": "stdout",
     "output_type": "stream",
     "text": [
      "Train Loss: 0.7239, Train Accuracy: 0.6844\n"
     ]
    },
    {
     "name": "stderr",
     "output_type": "stream",
     "text": [
      "                                                                       \r"
     ]
    },
    {
     "name": "stdout",
     "output_type": "stream",
     "text": [
      "Validation Loss: 0.5440, Validation Accuracy: 0.7796\n",
      "Validation Classification Report:\n",
      "               precision    recall  f1-score   support\n",
      "\n",
      "    negative       0.78      0.67      0.72       200\n",
      "     neutral       0.51      0.33      0.40        61\n",
      "    positive       0.80      0.90      0.85       415\n",
      "\n",
      "    accuracy                           0.78       676\n",
      "   macro avg       0.70      0.63      0.66       676\n",
      "weighted avg       0.77      0.78      0.77       676\n",
      "\n",
      "Validation accuracy improved. Saving model to linear/best_multimodal_model.pth\n",
      "\n",
      "--- Epoch 2/10 ---\n"
     ]
    },
    {
     "name": "stderr",
     "output_type": "stream",
     "text": [
      "                                                                       \r"
     ]
    },
    {
     "name": "stdout",
     "output_type": "stream",
     "text": [
      "Train Loss: 0.5271, Train Accuracy: 0.7822\n"
     ]
    },
    {
     "name": "stderr",
     "output_type": "stream",
     "text": [
      "                                                                       \r"
     ]
    },
    {
     "name": "stdout",
     "output_type": "stream",
     "text": [
      "Validation Loss: 0.5258, Validation Accuracy: 0.7840\n",
      "Validation Classification Report:\n",
      "               precision    recall  f1-score   support\n",
      "\n",
      "    negative       0.75      0.74      0.74       200\n",
      "     neutral       0.51      0.33      0.40        61\n",
      "    positive       0.82      0.87      0.85       415\n",
      "\n",
      "    accuracy                           0.78       676\n",
      "   macro avg       0.69      0.65      0.66       676\n",
      "weighted avg       0.77      0.78      0.78       676\n",
      "\n",
      "Validation accuracy improved. Saving model to linear/best_multimodal_model.pth\n",
      "\n",
      "--- Epoch 3/10 ---\n"
     ]
    },
    {
     "name": "stderr",
     "output_type": "stream",
     "text": [
      "                                                                       \r"
     ]
    },
    {
     "name": "stdout",
     "output_type": "stream",
     "text": [
      "Train Loss: 0.4146, Train Accuracy: 0.8398\n"
     ]
    },
    {
     "name": "stderr",
     "output_type": "stream",
     "text": [
      "                                                                       \r"
     ]
    },
    {
     "name": "stdout",
     "output_type": "stream",
     "text": [
      "Validation Loss: 0.5599, Validation Accuracy: 0.7766\n",
      "Validation Classification Report:\n",
      "               precision    recall  f1-score   support\n",
      "\n",
      "    negative       0.73      0.77      0.75       200\n",
      "     neutral       0.45      0.38      0.41        61\n",
      "    positive       0.84      0.84      0.84       415\n",
      "\n",
      "    accuracy                           0.78       676\n",
      "   macro avg       0.67      0.66      0.67       676\n",
      "weighted avg       0.77      0.78      0.77       676\n",
      "\n",
      "\n",
      "--- Epoch 4/10 ---\n"
     ]
    },
    {
     "name": "stderr",
     "output_type": "stream",
     "text": [
      "                                                                        \r"
     ]
    },
    {
     "name": "stdout",
     "output_type": "stream",
     "text": [
      "Train Loss: 0.2936, Train Accuracy: 0.8879\n"
     ]
    },
    {
     "name": "stderr",
     "output_type": "stream",
     "text": [
      "                                                                       \r"
     ]
    },
    {
     "name": "stdout",
     "output_type": "stream",
     "text": [
      "Validation Loss: 0.6225, Validation Accuracy: 0.7663\n",
      "Validation Classification Report:\n",
      "               precision    recall  f1-score   support\n",
      "\n",
      "    negative       0.69      0.78      0.73       200\n",
      "     neutral       0.45      0.36      0.40        61\n",
      "    positive       0.85      0.82      0.83       415\n",
      "\n",
      "    accuracy                           0.77       676\n",
      "   macro avg       0.66      0.65      0.65       676\n",
      "weighted avg       0.77      0.77      0.76       676\n",
      "\n",
      "\n",
      "--- Epoch 5/10 ---\n"
     ]
    },
    {
     "name": "stderr",
     "output_type": "stream",
     "text": [
      "                                                                        \r"
     ]
    },
    {
     "name": "stdout",
     "output_type": "stream",
     "text": [
      "Train Loss: 0.1696, Train Accuracy: 0.9484\n"
     ]
    },
    {
     "name": "stderr",
     "output_type": "stream",
     "text": [
      "                                                                       \r"
     ]
    },
    {
     "name": "stdout",
     "output_type": "stream",
     "text": [
      "Validation Loss: 0.7713, Validation Accuracy: 0.7751\n",
      "Validation Classification Report:\n",
      "               precision    recall  f1-score   support\n",
      "\n",
      "    negative       0.70      0.76      0.73       200\n",
      "     neutral       0.65      0.25      0.36        61\n",
      "    positive       0.82      0.86      0.84       415\n",
      "\n",
      "    accuracy                           0.78       676\n",
      "   macro avg       0.72      0.62      0.64       676\n",
      "weighted avg       0.77      0.78      0.76       676\n",
      "\n",
      "\n",
      "--- Epoch 6/10 ---\n"
     ]
    },
    {
     "name": "stderr",
     "output_type": "stream",
     "text": [
      "                                                                        \r"
     ]
    },
    {
     "name": "stdout",
     "output_type": "stream",
     "text": [
      "Train Loss: 0.0862, Train Accuracy: 0.9807\n"
     ]
    },
    {
     "name": "stderr",
     "output_type": "stream",
     "text": [
      "                                                                       \r"
     ]
    },
    {
     "name": "stdout",
     "output_type": "stream",
     "text": [
      "Validation Loss: 0.8660, Validation Accuracy: 0.7707\n",
      "Validation Classification Report:\n",
      "               precision    recall  f1-score   support\n",
      "\n",
      "    negative       0.71      0.77      0.74       200\n",
      "     neutral       0.45      0.31      0.37        61\n",
      "    positive       0.84      0.84      0.84       415\n",
      "\n",
      "    accuracy                           0.77       676\n",
      "   macro avg       0.67      0.64      0.65       676\n",
      "weighted avg       0.76      0.77      0.77       676\n",
      "\n",
      "\n",
      "--- Epoch 7/10 ---\n"
     ]
    },
    {
     "name": "stderr",
     "output_type": "stream",
     "text": [
      "                                                                         \r"
     ]
    },
    {
     "name": "stdout",
     "output_type": "stream",
     "text": [
      "Train Loss: 0.0508, Train Accuracy: 0.9889\n"
     ]
    },
    {
     "name": "stderr",
     "output_type": "stream",
     "text": [
      "                                                                       \r"
     ]
    },
    {
     "name": "stdout",
     "output_type": "stream",
     "text": [
      "Validation Loss: 0.9556, Validation Accuracy: 0.7707\n",
      "Validation Classification Report:\n",
      "               precision    recall  f1-score   support\n",
      "\n",
      "    negative       0.70      0.77      0.74       200\n",
      "     neutral       0.49      0.34      0.40        61\n",
      "    positive       0.84      0.83      0.83       415\n",
      "\n",
      "    accuracy                           0.77       676\n",
      "   macro avg       0.68      0.65      0.66       676\n",
      "weighted avg       0.77      0.77      0.77       676\n",
      "\n",
      "\n",
      "--- Epoch 8/10 ---\n"
     ]
    },
    {
     "name": "stderr",
     "output_type": "stream",
     "text": [
      "                                                                         \r"
     ]
    },
    {
     "name": "stdout",
     "output_type": "stream",
     "text": [
      "Train Loss: 0.0456, Train Accuracy: 0.9902\n"
     ]
    },
    {
     "name": "stderr",
     "output_type": "stream",
     "text": [
      "                                                                       \r"
     ]
    },
    {
     "name": "stdout",
     "output_type": "stream",
     "text": [
      "Validation Loss: 0.9889, Validation Accuracy: 0.7559\n",
      "Validation Classification Report:\n",
      "               precision    recall  f1-score   support\n",
      "\n",
      "    negative       0.68      0.80      0.74       200\n",
      "     neutral       0.40      0.34      0.37        61\n",
      "    positive       0.85      0.80      0.82       415\n",
      "\n",
      "    accuracy                           0.76       676\n",
      "   macro avg       0.64      0.65      0.64       676\n",
      "weighted avg       0.76      0.76      0.76       676\n",
      "\n",
      "\n",
      "--- Epoch 9/10 ---\n"
     ]
    },
    {
     "name": "stderr",
     "output_type": "stream",
     "text": [
      "                                                                         \r"
     ]
    },
    {
     "name": "stdout",
     "output_type": "stream",
     "text": [
      "Train Loss: 0.0374, Train Accuracy: 0.9921\n"
     ]
    },
    {
     "name": "stderr",
     "output_type": "stream",
     "text": [
      "                                                                       \r"
     ]
    },
    {
     "name": "stdout",
     "output_type": "stream",
     "text": [
      "Validation Loss: 0.9872, Validation Accuracy: 0.7722\n",
      "Validation Classification Report:\n",
      "               precision    recall  f1-score   support\n",
      "\n",
      "    negative       0.73      0.76      0.74       200\n",
      "     neutral       0.43      0.38      0.40        61\n",
      "    positive       0.84      0.84      0.84       415\n",
      "\n",
      "    accuracy                           0.77       676\n",
      "   macro avg       0.67      0.66      0.66       676\n",
      "weighted avg       0.77      0.77      0.77       676\n",
      "\n",
      "\n",
      "--- Epoch 10/10 ---\n"
     ]
    },
    {
     "name": "stderr",
     "output_type": "stream",
     "text": [
      "                                                                          \r"
     ]
    },
    {
     "name": "stdout",
     "output_type": "stream",
     "text": [
      "Train Loss: 0.0286, Train Accuracy: 0.9924\n"
     ]
    },
    {
     "name": "stderr",
     "output_type": "stream",
     "text": [
      "                                                                       "
     ]
    },
    {
     "name": "stdout",
     "output_type": "stream",
     "text": [
      "Validation Loss: 1.0797, Validation Accuracy: 0.7707\n",
      "Validation Classification Report:\n",
      "               precision    recall  f1-score   support\n",
      "\n",
      "    negative       0.69      0.81      0.74       200\n",
      "     neutral       0.48      0.36      0.41        61\n",
      "    positive       0.86      0.81      0.83       415\n",
      "\n",
      "    accuracy                           0.77       676\n",
      "   macro avg       0.67      0.66      0.66       676\n",
      "weighted avg       0.77      0.77      0.77       676\n",
      "\n",
      "\n",
      "Training finished. Best validation accuracy (0.7840) achieved at epoch 2.\n",
      "\n",
      "--- Evaluating on Test Set using Best Model ---\n",
      "Warning: Best model file not found. Skipping test set evaluation.\n",
      "\n",
      "Done.\n"
     ]
    },
    {
     "name": "stderr",
     "output_type": "stream",
     "text": [
      "\r"
     ]
    }
   ],
   "source": [
    "if __name__ == \"__main__\":\n",
    "    print(f\"Using device: {CONFIG['device']}\")\n",
    "    torch.manual_seed(CONFIG['seed'])\n",
    "\n",
    "    # --- Load Data ---\n",
    "    print(\"Loading labels...\")\n",
    "    try:\n",
    "        df = pd.read_csv(CONFIG['label_file']).dropna(how='all')  #dataframe object\n",
    "        df['ID'] = df['ID'].astype(int)\n",
    "        df['class'] = df['class'].astype(int)\n",
    "        # Basic validation\n",
    "        print(df)\n",
    "        if 'ID' not in df.columns or 'label' not in df.columns:\n",
    "            raise ValueError(\"CSV must contain 'id' and 'label' columns.\")\n",
    "        if not all(label in label_map for label in df['label'].unique()):\n",
    "            raise ValueError(f\"Labels in CSV must be one of {list(label_map.keys())}\")\n",
    "        print(f\"Found {len(df)} samples.\")\n",
    "    except FileNotFoundError:\n",
    "        print(f\"Error: Label file not found at {CONFIG['label_file']}\")\n",
    "        #exit()\n",
    "    except ValueError as e:\n",
    "        print(f\"Error: {e}\")\n",
    "        #exit()\n",
    "\n",
    "    \n",
    "    # --- Split Data ---\n",
    "    # Calculate split sizes\n",
    "    total_size = len(df) # count data rows (exclude title row)\n",
    "    test_size = int(CONFIG['test_split_ratio'] * total_size)  #取0.15的样本用于测试\n",
    "    val_size = int(CONFIG['val_split_ratio'] * total_size) #取0.15的样本用于验证\n",
    "    train_size = total_size - val_size - test_size\n",
    "\n",
    "    print(f\"Splitting data: Train={train_size}, Val={val_size}, Test={test_size}\")\n",
    "    if train_size <= 0 or val_size <= 0 or test_size <= 0:\n",
    "        print(\"Error: Dataset too small for specified split ratios.\")\n",
    "        exit()\n",
    "\n",
    "    # Perform the split   #from torch.utils.data import random_split\n",
    "    #input: 1st : list / dataframe/ tensor /Dataset\n",
    "    #2nd: size #3rd: only for fix seed\n",
    "    train_df, val_df, test_df = random_split(df, [train_size, val_size, test_size],\n",
    "                                             generator=torch.Generator().manual_seed(CONFIG['seed']))\n",
    "\n",
    "    # Convert subsets back to DataFrames for easier indexing if needed by Dataset class\n",
    "    # Note: random_split returns Subset objects. We get the indices and select from the original df.\n",
    "    # drop = true means don't remain the old shuffled indices as a column\n",
    "    train_df = df.iloc[train_df.indices].reset_index(drop=True)\n",
    "    val_df = df.iloc[val_df.indices].reset_index(drop=True)\n",
    "    test_df = df.iloc[test_df.indices].reset_index(drop=True)\n",
    "\n",
    "\n",
    "    # --- Initialize Processor, Dataset, DataLoader ---\n",
    "    print(\"Initializing CLIP Processor...\")\n",
    "    clip_processor = CLIPProcessor.from_pretrained(CONFIG['clip_model_name']) #clip-vit32\n",
    "\n",
    "    print(\"Creating Datasets...\")\n",
    "    #传入df是label的数据，通过此函数去data_dir文件夹取得图片、文本数据，getitem结果：image, text, label\n",
    "    #只是定义了一个取数据的函数，还没实际获得\n",
    "    train_dataset = MultimodalBlogDataset(CONFIG['data_dir'], train_df, clip_processor, label_map,CONFIG['data_dir_img'],CONFIG['data_dir_text'])\n",
    "    val_dataset = MultimodalBlogDataset(CONFIG['data_dir'], val_df, clip_processor, label_map,CONFIG['data_dir_img'],CONFIG['data_dir_text'])\n",
    "    test_dataset = MultimodalBlogDataset(CONFIG['data_dir'], test_df, clip_processor, label_map,CONFIG['data_dir_img'],CONFIG['data_dir_text'])\n",
    "\n",
    "    print(\"Creating DataLoaders...\")\n",
    "    # Define the collate function with necessary arguments partially filled\n",
    "    collate_fn_partial = lambda batch: collate_fn(batch, clip_processor, CONFIG['device'], CONFIG['max_token_length'])\n",
    "    #DataLoader(dataset的子类, bs, shuffle 训练时为true)\n",
    "    #dataloader： 每次从数据源取出一个batch，对元素调用get_item,取完所有元素后，传给collate_fn\n",
    "    #note： dataloader默认只给collate_fn传入batch size，如果要自定义其他参数，需要先写collate_fn_partial\n",
    "    #依然只是构造了dataloader的实例，还不是数据：for inputs, labels in train_loader才是数据\n",
    "    train_loader = DataLoader(train_dataset, batch_size=CONFIG['batch_size'], shuffle=True, collate_fn=collate_fn_partial)\n",
    "    val_loader = DataLoader(val_dataset, batch_size=CONFIG['batch_size'], shuffle=False, collate_fn=collate_fn_partial)\n",
    "    test_loader = DataLoader(test_dataset, batch_size=CONFIG['batch_size'], shuffle=False, collate_fn=collate_fn_partial)\n",
    "\n",
    "\n",
    "    # --- Initialize Model, Loss, Optimizer ---\n",
    "    print(\"Initializing Model...\")\n",
    "    # Pass ablation flags here\n",
    "    model = MultimodalClassifier(\n",
    "        clip_model_name=CONFIG['clip_model_name'],\n",
    "        num_classes=CONFIG['num_classes'],\n",
    "        use_cross_attention=CONFIG[\"use_cross_attention\"],\n",
    "        use_cnn_layer=CONFIG[\"use_cnn_layer\"],\n",
    "        freeze_clip=CONFIG[\"freeze_clip\"],\n",
    "        device=CONFIG['device']\n",
    "    )\n",
    "    model = model.to(CONFIG['device']) # Model parts are moved to device in __init__\n",
    "\n",
    "    criterion = nn.CrossEntropyLoss()\n",
    "\n",
    "    # Separate parameters for different learning rates\n",
    "    clip_params = list(model.clip_model.parameters())\n",
    "    head_params = []\n",
    "    if CONFIG[\"use_cross_attention\"]:\n",
    "        head_params.extend(list(model.img_to_txt_attention.parameters()))\n",
    "        head_params.extend(list(model.txt_to_img_attention.parameters()))\n",
    "    if CONFIG[\"use_cnn_layer\"]:\n",
    "        head_params.extend(list(model.conv1d.parameters()))\n",
    "    head_params.extend(list(model.fc1.parameters()))\n",
    "    head_params.extend(list(model.fc2.parameters()))\n",
    "\n",
    "\n",
    "    optimizer = optim.AdamW([\n",
    "        {'params': clip_params, 'lr': CONFIG['learning_rate_clip']},\n",
    "        {'params': head_params, 'lr': CONFIG['learning_rate_head']}\n",
    "    ])\n",
    "\n",
    "    # --- Training Loop ---\n",
    "    print(\"Starting Training...\")\n",
    "    best_val_accuracy = 0.0\n",
    "    best_epoch = -1\n",
    "\n",
    "    for epoch in range(CONFIG['num_epochs']):\n",
    "        print(f\"\\n--- Epoch {epoch+1}/{CONFIG['num_epochs']} ---\")\n",
    "\n",
    "        train_loss, train_acc = train_epoch(model, train_loader, optimizer, criterion, CONFIG['device'], clip_processor, CONFIG['max_token_length'])\n",
    "        print(f\"Train Loss: {train_loss:.4f}, Train Accuracy: {train_acc:.4f}\")\n",
    "\n",
    "        val_loss, val_acc, val_report, _, _ = evaluate_epoch(model, val_loader, criterion, CONFIG['device'], clip_processor, CONFIG['max_token_length'])\n",
    "        print(f\"Validation Loss: {val_loss:.4f}, Validation Accuracy: {val_acc:.4f}\")\n",
    "        print(\"Validation Classification Report:\\n\", val_report)\n",
    "\n",
    "        # Save best model based on validation accuracy\n",
    "        if val_acc > best_val_accuracy:\n",
    "            best_val_accuracy = val_acc\n",
    "            best_epoch = epoch\n",
    "            # Create a directory to save models if it doesn't exist\n",
    "            os.makedirs(\"linear\", exist_ok=True)\n",
    "            model_save_path = os.path.join(\"linear\", \"best_multimodal_model.pth\")\n",
    "            print(f\"Validation accuracy improved. Saving model to {model_save_path}\")\n",
    "            torch.save(model.state_dict(), model_save_path)\n",
    "            # You might want to save optimizer state and epoch number too for resuming training\n",
    "\n",
    "    print(f\"\\nTraining finished. Best validation accuracy ({best_val_accuracy:.4f}) achieved at epoch {best_epoch+1}.\")\n",
    "\n",
    "    # --- Final Evaluation on Test Set ---\n",
    "    print(\"\\n--- Evaluating on Test Set using Best Model ---\")\n",
    "    # Load the best model weights\n",
    "    best_model_path = os.path.join(\"models\", \"best_multimodal_model.pth\")\n",
    "    if os.path.exists(best_model_path):\n",
    "        model.load_state_dict(torch.load(best_model_path, map_location=CONFIG['device']))\n",
    "        print(\"Loaded best model weights for testing.\")\n",
    "\n",
    "        test_loss, test_acc, test_report, test_labels, test_preds = evaluate_epoch(model, test_loader, criterion, CONFIG['device'], clip_processor, CONFIG['max_token_length'])\n",
    "        print(f\"\\nTest Loss: {test_loss:.4f}\")\n",
    "        print(f\"Test Accuracy: {test_acc:.4f}\")\n",
    "        print(\"Test Set Classification Report:\\n\", test_report)\n",
    "        # You can further analyze test_labels and test_preds here (e.g., confusion matrix)\n",
    "    else:\n",
    "        print(\"Warning: Best model file not found. Skipping test set evaluation.\")\n",
    "\n",
    "    print(\"\\nDone.\")"
   ]
  }
 ],
 "metadata": {
  "accelerator": "GPU",
  "colab": {
   "authorship_tag": "ABX9TyPTyAd7HGLy+uD2vvRfW7K7",
   "gpuType": "T4",
   "provenance": []
  },
  "kernelspec": {
   "display_name": "wangrt",
   "language": "python",
   "name": "python3"
  },
  "language_info": {
   "codemirror_mode": {
    "name": "ipython",
    "version": 3
   },
   "file_extension": ".py",
   "mimetype": "text/x-python",
   "name": "python",
   "nbconvert_exporter": "python",
   "pygments_lexer": "ipython3",
   "version": "3.10.16"
  }
 },
 "nbformat": 4,
 "nbformat_minor": 0
}
