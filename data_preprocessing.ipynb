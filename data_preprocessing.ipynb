{
 "cells": [
  {
   "cell_type": "markdown",
   "metadata": {},
   "source": [
    "reference: https://github.com/VinAIResearch/BERTweet/blob/master/TweetNormalizer.py"
   ]
  },
  {
   "cell_type": "code",
   "execution_count": 1,
   "metadata": {},
   "outputs": [],
   "source": [
    "import os\n",
    "import re\n",
    "import pandas as pd\n",
    "import numpy as np\n",
    "# from PIL import Image\n",
    "import torch\n",
    "# from transformers import BertTokenizer\n",
    "from emoji import demojize\n",
    "import argparse\n",
    "from sklearn.model_selection import train_test_split\n"
   ]
  },
  {
   "cell_type": "markdown",
   "metadata": {},
   "source": [
    "## Text Processing"
   ]
  },
  {
   "cell_type": "code",
   "execution_count": null,
   "metadata": {},
   "outputs": [],
   "source": [
    "from emoji import demojize\n",
    "from nltk.tokenize import TweetTokenizer\n",
    "\n",
    "\n",
    "tokenizer = TweetTokenizer()\n",
    "\n",
    "# 需要先判断被::包起来的文本是不是emoji，是的话先转成emoji不要避免被tokenize了\n",
    "def emoji_tokenize(text):\n",
    "    # 提取被::包起来的文本\n",
    "    pattern = r':(.*?):'\n",
    "    matches = re.findall(pattern, text)\n",
    "    # 将被::包起来的文本替换为emoji\n",
    "    for match in matches:\n",
    "        emoji_text = emojize(f\":{match}:\")\n",
    "        text = text.replace(f\":{match}:\", emoji_text)\n",
    "    return text\n",
    "\n",
    "\n",
    "def normalize_punctuation(text):\n",
    "    \"\"\"\n",
    "    合并连续的标点符号，例如：\n",
    "    '!!!' -> '!', '???' -> '?', '??!!' -> '?'\n",
    "    \"\"\"\n",
    "\n",
    "    punct_groups_dict = {\n",
    "        '!': r\"[!]{2,}\",       # multiple !\n",
    "        '?': r\"[?]{2,}\",       # multiple ?\n",
    "        '...': r\"[...]{2,}\",       # multiple .\n",
    "        '!?': r\"[!?]{2,}\",      # mix ?!?!?!\n",
    "    }\n",
    "\n",
    "    for replacement, pattern in punct_groups_dict.items():\n",
    "        text = re.sub(pattern, replacement, text)\n",
    "\n",
    "    return text\n",
    "\n",
    "\n",
    "def normalize_token(token):\n",
    "    # convert all tokens to lowercase\n",
    "    lowercased_token = token.strip().lower()\n",
    "    # convert user mentions into special tokens @USER\n",
    "    if token.startswith(\"@\"):\n",
    "        return \"@USER\" # issue: some people may use @ for location\n",
    "    # convert web/url links to HTTPURL\n",
    "    elif lowercased_token.startswith(\"http\") or lowercased_token.startswith(\"www\"):\n",
    "        return \"HTTPURL\"\n",
    "    # translate emotion icons into text strings\n",
    "    elif len(token) == 1:\n",
    "        # print(\"processing single char:\", token)\n",
    "        result = demojize(token)\n",
    "        # print(\"result:\", result)\n",
    "        return result\n",
    "    else:\n",
    "        if token == \"’\":\n",
    "            return \"'\"\n",
    "        elif token == \"…\":\n",
    "            return \"...\"\n",
    "        else:\n",
    "            return token\n",
    "\n",
    "\n",
    "def normalize_tweet(tweet):\n",
    "\n",
    "    tweet = tweet.replace(\"’\", \"'\")\n",
    "\n",
    "    # emoji normalization\n",
    "    tweet = emoji_tokenize(tweet)\n",
    "\n",
    "    # punctuation normalization\n",
    "    tweet = normalize_punctuation(tweet)\n",
    "\n",
    "    # tweet tokenization\n",
    "    tokens = tokenizer.tokenize(tweet)\n",
    "    \n",
    "    # token normalization\n",
    "    norm_tweet = \" \".join([normalize_token(token) for token in tokens])\n",
    "\n",
    "    norm_tweet = (\n",
    "        norm_tweet.replace(\"cannot \", \"can not \")\n",
    "        .replace(\"n't \", \" n't \")\n",
    "        .replace(\"n 't \", \" n't \")\n",
    "        .replace(\"ca n't\", \"can't\")\n",
    "        .replace(\"ai n't\", \"ain't\")\n",
    "    )\n",
    "    norm_tweet = (\n",
    "        norm_tweet.replace(\"'m \", \" 'm \")\n",
    "        .replace(\"'re \", \" 're \")\n",
    "        .replace(\"'s \", \" 's \")\n",
    "        .replace(\"'ll \", \" 'll \")\n",
    "        .replace(\"'d \", \" 'd \")\n",
    "        .replace(\"'ve \", \" 've \")\n",
    "    )\n",
    "    norm_tweet = (\n",
    "        norm_tweet.replace(\" p . m .\", \"  p.m.\")\n",
    "        .replace(\" p . m \", \" p.m \")\n",
    "        .replace(\" a . m .\", \" a.m.\")\n",
    "        .replace(\" a . m \", \" a.m \")\n",
    "    )\n",
    "\n",
    "    return \" \".join(norm_tweet.split())"
   ]
  },
  {
   "cell_type": "code",
   "execution_count": 6,
   "metadata": {},
   "outputs": [
    {
     "name": "stdout",
     "output_type": "stream",
     "text": [
      "SC has first two presumptive cases of coronavirus , DHEC confirms HTTPURL via @USER\n"
     ]
    }
   ],
   "source": [
    "print(\n",
    "    normalize_tweet(\n",
    "        \"SC has first two presumptive cases of coronavirus, DHEC confirms https://postandcourier.com/health/covid19/sc-has-first-two-presumptive-cases-of-coronavirus-dhec-confirms/article_bddfe4ae-5fd3-11ea-9ce4-5f495366cee6.html?utm_medium=social&utm_source=twitter&utm_campaign=user-share… via @postandcourier\"\n",
    "    )\n",
    ")"
   ]
  },
  {
   "cell_type": "code",
   "execution_count": null,
   "metadata": {},
   "outputs": [
    {
     "name": "stdout",
     "output_type": "stream",
     "text": [
      "RT @USER : #Disney 's lies - \" Every day is a good hair day \" . Yeah , right ! : HTTPURL HTTPURL\n"
     ]
    }
   ],
   "source": [
    "# 5127.txt\n",
    "print(\n",
    "  normalize_tweet(\n",
    "    \"RT @bookmyshow: #Disney's lies - \\\"Every day is a good hair day\\\". Yeah, right!!: http://t.co/351AQVV7gA http://t.co/fFH59wGwbs\"\n",
    "  )\n",
    ")\n",
    "\n",
    "# TODO: may consider removing retweet; concern: the sentiment after retweet might be opposite to the original"
   ]
  },
  {
   "cell_type": "code",
   "execution_count": 8,
   "metadata": {},
   "outputs": [
    {
     "name": "stdout",
     "output_type": "stream",
     "text": [
      "HTTPURL HTTPURL\n"
     ]
    }
   ],
   "source": [
    "# 5125.txt\n",
    "print(\n",
    "  normalize_tweet(\n",
    "    \"http://t.co/Y4ZrSmq2KB http://t.co/L…\"\n",
    "  )\n",
    ")"
   ]
  },
  {
   "cell_type": "code",
   "execution_count": null,
   "metadata": {},
   "outputs": [],
   "source": []
  },
  {
   "cell_type": "code",
   "execution_count": 9,
   "metadata": {},
   "outputs": [
    {
     "name": "stdout",
     "output_type": "stream",
     "text": [
      "{'encoding': 'ISO-8859-1', 'confidence': 0.73, 'language': ''}\n"
     ]
    }
   ],
   "source": [
    "import chardet\n",
    "\n",
    "with open('data/2.txt', 'rb') as f:\n",
    "    data = f.read()\n",
    "    result = chardet.detect(data)\n",
    "    print(result)  # {'encoding': 'ISO-8859-1', 'confidence': 0.73, 'language': ''}"
   ]
  },
  {
   "cell_type": "code",
   "execution_count": 11,
   "metadata": {},
   "outputs": [
    {
     "name": "stderr",
     "output_type": "stream",
     "text": [
      "100%|██████████| 9738/9738 [00:02<00:00, 4425.68it/s]\n"
     ]
    }
   ],
   "source": [
    "from tqdm import tqdm\n",
    "\n",
    "# process all .txt files in the /data directory\n",
    "def processFiles(input_dir=\"data\", output_dir=\"data_processed\"):\n",
    "    # create the output directory if it doesn't exist\n",
    "    os.makedirs(output_dir, exist_ok=True)\n",
    "\n",
    "    # iterate through all files in the input directory\n",
    "    # sort the files according to numbers in the filename\n",
    "    for filename in tqdm(sorted(os.listdir(input_dir), key=lambda x: int(x.split(\".\")[0]))):\n",
    "        if filename.endswith(\".txt\"):\n",
    "            file_path = os.path.join(input_dir, filename)\n",
    "            with open(file_path, \"r\", encoding=\"ISO-8859-1\") as f:\n",
    "                # print(\"processing file:\", filename)\n",
    "                lines = f.readlines()\n",
    "\n",
    "            # process each line in the file\n",
    "            processed_lines = []\n",
    "            for line in lines:\n",
    "                processed_line = normalize_tweet(line.strip())\n",
    "                processed_lines.append(processed_line)\n",
    "\n",
    "            # write the processed lines to a new file in the output directory\n",
    "            output_file_path = os.path.join(output_dir, filename)\n",
    "            with open(output_file_path, \"w\", encoding=\"utf-8\") as f:\n",
    "                f.write(\"\\n\".join(processed_lines))\n",
    "\n",
    "processFiles()"
   ]
  },
  {
   "cell_type": "code",
   "execution_count": null,
   "metadata": {},
   "outputs": [],
   "source": []
  }
 ],
 "metadata": {
  "kernelspec": {
   "display_name": "cs5242-proj",
   "language": "python",
   "name": "python3"
  },
  "language_info": {
   "codemirror_mode": {
    "name": "ipython",
    "version": 3
   },
   "file_extension": ".py",
   "mimetype": "text/x-python",
   "name": "python",
   "nbconvert_exporter": "python",
   "pygments_lexer": "ipython3",
   "version": "3.12.9"
  }
 },
 "nbformat": 4,
 "nbformat_minor": 2
}
